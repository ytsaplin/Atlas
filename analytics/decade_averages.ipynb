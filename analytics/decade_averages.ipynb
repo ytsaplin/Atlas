{
 "cells": [
  {
   "cell_type": "code",
   "execution_count": null,
   "metadata": {},
   "outputs": [],
   "source": [
    "import pandas as pd\n",
    "import os\n",
    "from matplotlib import pyplot as plt\n",
    "\n",
    "region = \"CAM\"\n",
    "zone = \"NSA\"\n",
    "\n",
    "parameters = [\"tas_land\", \"pr_land\"]\n",
    "\n",
    "path = \"../datasets-aggregated-regionally/data/CORDEX/CORDEX-{reg}_{param}\".format(reg=region, param=parameters[0])\n",
    "\n",
    "fig, ax = plt.subplots()\n",
    "\n",
    "\n",
    "time_index = pd.date_range(start=\"1970-01-01\", end=\"2100-01-01\", freq='AS')\n",
    "out = pd.DataFrame(index=time_index)\n",
    "\n",
    "for f in os.listdir(path):\n",
    "    df = pd.read_csv(os.path.join(path, f), header=15, usecols=['date', zone])\n",
    "    df['date']  = pd.to_datetime(df['date'], format=\"%Y-%m\", dayfirst=False)\n",
    "\n",
    "    df.set_index(keys='date', drop=True, inplace=True)\n",
    "    df_ann = df.resample(rule='AS').mean()\n",
    "    out[f] = df_ann[zone]\n",
    "\n",
    "out = out.groupby((out.index.year//10)*10).mean()\n",
    "\n",
    "desc = out.T.describe(percentiles=[0.1, 0.9])\n",
    "desc = desc.T\n",
    "\n",
    "for c in out.columns:\n",
    "    ax.plot(out.index, out[c], color='grey')\n",
    "    ax.fill_between(desc.index, desc['min'], desc['max'], color='lightgrey')\n",
    "   \n",
    "    ax.plot(desc.index, desc['10%'], marker='o')\n",
    "    ax.plot(desc.index, desc['90%'], marker='o')\n",
    "    ax.plot(desc.index, desc['mean'], marker='o')\n",
    "\n"
   ]
  }
 ],
 "metadata": {
  "kernelspec": {
   "display_name": "Python 3.9.12 ('base')",
   "language": "python",
   "name": "python3"
  },
  "language_info": {
   "codemirror_mode": {
    "name": "ipython",
    "version": 3
   },
   "file_extension": ".py",
   "mimetype": "text/x-python",
   "name": "python",
   "nbconvert_exporter": "python",
   "pygments_lexer": "ipython3",
   "version": "3.9.12"
  },
  "orig_nbformat": 4,
  "vscode": {
   "interpreter": {
    "hash": "e4cce46d6be9934fbd27f9ca0432556941ea5bdf741d4f4d64c6cd7f8dfa8fba"
   }
  }
 },
 "nbformat": 4,
 "nbformat_minor": 2
}
