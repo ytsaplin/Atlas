{
 "cells": [
  {
   "cell_type": "code",
   "execution_count": null,
   "metadata": {},
   "outputs": [],
   "source": [
    "#import libraries \n",
    "import pandas as pd\n",
    "import os\n",
    "from matplotlib import pyplot as plt\n",
    "\n",
    "def extract_data(datapath, zone, aggregate_by_decade=False):\n",
    "    \"\"\"\n",
    "    extract data for a particular subzone and make annual aggregation   \n",
    "    returns annually aggregated dataframe\n",
    "\n",
    "    \"\"\"\n",
    "\n",
    "    #prepare output dataframe\n",
    "    time_index = pd.date_range(start=\"1970-01-01\", end=\"2100-01-01\", freq='AS')\n",
    "    out = pd.DataFrame(index=time_index)\n",
    "\n",
    "    #extract data and do annual aggregation\n",
    "    for f in os.listdir(datapath):\n",
    "        df = pd.read_csv(os.path.join(datapath, f), header=15, usecols=['date', zone])\n",
    "        df['date']  = pd.to_datetime(df['date'], format=\"%Y-%m\", dayfirst=False)\n",
    "\n",
    "        df.set_index(keys='date', drop=True, inplace=True)\n",
    "        df_ann = df.resample(rule='AS').mean()\n",
    "        out[f] = df_ann[zone]\n",
    "    \n",
    "    if aggregate_by_decade:\n",
    "        out = out.groupby((out.index.year//10)*10).mean()\n",
    "\n",
    "    return out\n",
    "    \n",
    "# region and subregion codes as per datasets-aggregated-regionally/README.md\n",
    "region = \"CAM\"\n",
    "zone = \"NSA\"\n",
    "\n",
    "# list of parameters for analysis see Appendix B in  https://is-enes-data.github.io/cordex_archive_specifications.pdf\n",
    "# future idea split zone land/sea and variable name\n",
    "parameters = [\"tas_land\", \"pr_land\"]\n",
    "\n",
    "for p in parameters:\n",
    "    fig, ax = plt.subplots()\n",
    "    #construct datapath from region and parameter inputs\n",
    "    path = \"../datasets-aggregated-regionally/data/CORDEX/CORDEX-{reg}_{param}\".format(reg=region, param=p)\n",
    "    \n",
    "    # get the data by calling exctract_data function defined above\n",
    "    df = extract_data(datapath=path, zone=zone, aggregate_by_decade=True)\n",
    "    \n",
    "    #trim output to 2010-2060\n",
    "    df = df[(df.index >= 2010) & (df.index <= 2060)]\n",
    "    \n",
    "    #calculate deltas to 2010-2020 baseline (first row after trimming)\n",
    "    df = df - df.iloc[0]\n",
    "\n",
    "    #calculate statistics\n",
    "    desc = df.T.describe(percentiles=[0.1, 0.9])\n",
    "    desc = desc.T\n",
    "    \n",
    "    #plot\n",
    "    ax.fill_between(desc.index, desc['min'], desc['max'], color='lightgrey')\n",
    "    ax.plot(desc.index, desc['10%'], marker='o', color='green')\n",
    "    ax.plot(desc.index, desc['90%'], marker='o', color='red')\n",
    "    ax.plot(desc.index, desc['mean'], marker='o', color='blue')\n",
    "    ax.set_title(\"Region: {reg}, zone: {zon}\".format(reg=region, zon=zone))\n",
    "    ax.set_ylabel(p)\n",
    "\n",
    "    #table output\n",
    "    print(\"*** Begin table output for {0} ***\".format(p))\n",
    "    print(desc)\n",
    "    print(\"*** End table output for {0} ***\".format(p))\n"
   ]
  }
 ],
 "metadata": {
  "kernelspec": {
   "display_name": "Python 3.9.12 ('base')",
   "language": "python",
   "name": "python3"
  },
  "language_info": {
   "codemirror_mode": {
    "name": "ipython",
    "version": 3
   },
   "file_extension": ".py",
   "mimetype": "text/x-python",
   "name": "python",
   "nbconvert_exporter": "python",
   "pygments_lexer": "ipython3",
   "version": "3.9.12"
  },
  "orig_nbformat": 4,
  "vscode": {
   "interpreter": {
    "hash": "e4cce46d6be9934fbd27f9ca0432556941ea5bdf741d4f4d64c6cd7f8dfa8fba"
   }
  }
 },
 "nbformat": 4,
 "nbformat_minor": 2
}
